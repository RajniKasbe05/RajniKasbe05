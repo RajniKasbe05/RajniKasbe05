{
  "nbformat": 4,
  "nbformat_minor": 0,
  "metadata": {
    "colab": {
      "provenance": [],
      "authorship_tag": "ABX9TyNtjjM3TyItrbpzp1W+HdrW",
      "include_colab_link": true
    },
    "kernelspec": {
      "name": "python3",
      "display_name": "Python 3"
    },
    "language_info": {
      "name": "python"
    }
  },
  "cells": [
    {
      "cell_type": "markdown",
      "metadata": {
        "id": "view-in-github",
        "colab_type": "text"
      },
      "source": [
        "<a href=\"https://colab.research.google.com/github/RajniKasbe05/RajniKasbe_FSDS-Pro_Assignments/blob/main/19th_August_Python_Basics.ipynb\" target=\"_parent\"><img src=\"https://colab.research.google.com/assets/colab-badge.svg\" alt=\"Open In Colab\"/></a>"
      ]
    },
    {
      "cell_type": "markdown",
      "source": [
        "**TOPIC: Python Basics Variable**"
      ],
      "metadata": {
        "id": "xoYMhBYkLtKT"
      }
    },
    {
      "cell_type": "markdown",
      "source": [
        "1. Declare two variables, `x` and `y`, and assign them integer values. Swap the\n",
        "values of these variables without using any temporary variable."
      ],
      "metadata": {
        "id": "kE97Cu7hF4Hc"
      }
    },
    {
      "cell_type": "code",
      "execution_count": null,
      "metadata": {
        "colab": {
          "base_uri": "https://localhost:8080/"
        },
        "id": "5t4ciuM875hi",
        "outputId": "122098b7-5a83-408c-95d2-81c6888cfdbc"
      },
      "outputs": [
        {
          "output_type": "stream",
          "name": "stdout",
          "text": [
            "Before swapping:  10 20\n",
            "After swapping:  20 10\n"
          ]
        }
      ],
      "source": [
        "x,y = 10,20\n",
        "print(\"Before swapping: \", x ,y)\n",
        "x,y = y,x\n",
        "print(\"After swapping: \", x ,y)"
      ]
    },
    {
      "cell_type": "markdown",
      "source": [
        "2.  Create a program that calculates the area of a rectangle. Take the length and\n",
        "width as inputs from the user and store them in variables. Calculate and\n",
        "display the area.\n"
      ],
      "metadata": {
        "id": "0RVR9wrkF9wl"
      }
    },
    {
      "cell_type": "code",
      "source": [
        "l = float(input(\"Enter length of rectagle= \"))\n",
        "w = float(input(\"Enter width of rectagle= \"))\n",
        "Area = l*w\n",
        "print(\"Area of rectangle=\", Area)\n"
      ],
      "metadata": {
        "colab": {
          "base_uri": "https://localhost:8080/"
        },
        "id": "m_1lOfmK8h_T",
        "outputId": "8ad42b19-1e70-448f-d0bf-b157ddcca8b6"
      },
      "execution_count": null,
      "outputs": [
        {
          "output_type": "stream",
          "name": "stdout",
          "text": [
            "Enter length of rectagle= 4\n",
            "Enter width of rectagle= 5\n",
            "Area of rectangle= 20.0\n"
          ]
        }
      ]
    },
    {
      "cell_type": "markdown",
      "source": [
        "3. Write a Python program that converts temperatures from Celsius to\n",
        "Fahrenheit. Take the temperature in Celsius as input, store it in a variable,\n",
        "convert it to Fahrenheit, and display the result."
      ],
      "metadata": {
        "id": "rS4qXlDvF1BF"
      }
    },
    {
      "cell_type": "code",
      "source": [
        "tempC = float(input(\"Enter temperature in Celsius: \"))\n",
        "tempF = (tempC*9/5) +32\n",
        "print(f\"{tempC} Celsious Temprature is equal to {tempF} Fahrenheit.\")"
      ],
      "metadata": {
        "colab": {
          "base_uri": "https://localhost:8080/"
        },
        "id": "7XaNiRerBuOY",
        "outputId": "1e5e6f3c-d015-4dbc-acad-773655a64a14"
      },
      "execution_count": null,
      "outputs": [
        {
          "output_type": "stream",
          "name": "stdout",
          "text": [
            "Enter temperature in Celsius: 99.5\n",
            "99.5 Celsious Temprature is equal to 211.1 Fahrenheit\n"
          ]
        }
      ]
    },
    {
      "cell_type": "markdown",
      "source": [
        "**TOPIC: String Based Questions**"
      ],
      "metadata": {
        "id": "ZoEWXUkIMCaQ"
      }
    },
    {
      "cell_type": "markdown",
      "source": [
        "1. Write a Python program that takes a string as input and prints the length of\n",
        "the string."
      ],
      "metadata": {
        "id": "K1vtM_FyIM1H"
      }
    },
    {
      "cell_type": "code",
      "source": [
        "str = input(\"Enter String: \")\n",
        "str_len= len(str)\n",
        "print(\"The length of string is: \", str_len)"
      ],
      "metadata": {
        "colab": {
          "base_uri": "https://localhost:8080/"
        },
        "id": "-FStZSqWGuUT",
        "outputId": "c213dfda-327c-4d52-d31e-39fd91b9b05b"
      },
      "execution_count": null,
      "outputs": [
        {
          "output_type": "stream",
          "name": "stdout",
          "text": [
            "Enter String: Nature\n",
            "The length of string is:  6\n"
          ]
        }
      ]
    },
    {
      "cell_type": "markdown",
      "source": [
        "2. Create a program that takes a sentence from the user and counts the number\n",
        "of vowels (a, e, i, o, u) in the string.\n"
      ],
      "metadata": {
        "id": "6sBvJQXBLEFI"
      }
    },
    {
      "cell_type": "code",
      "source": [
        "Sentence = input(\"Enter your sentence: \")\n",
        "vowel_count = 0\n",
        "for char in Sentence:\n",
        "  char_lower = char.lower()\n",
        "  if char_lower in \"aeiou\":\n",
        "    vowel_count += 1\n",
        "print(\"Number of vowels \", vowel_count)\n",
        "\n"
      ],
      "metadata": {
        "colab": {
          "base_uri": "https://localhost:8080/"
        },
        "id": "bopMXxePIapm",
        "outputId": "73c43cd0-dfa4-41a2-918f-223f415cc9c1"
      },
      "execution_count": null,
      "outputs": [
        {
          "output_type": "stream",
          "name": "stdout",
          "text": [
            "Enter your sentence: This is my personal bag\n",
            "Number of vowels  6\n"
          ]
        }
      ]
    },
    {
      "cell_type": "markdown",
      "source": [
        "3. Given a string, reverse the order of characters using string slicing and print\n",
        "the reversed string."
      ],
      "metadata": {
        "id": "Iv04nYqMK08M"
      }
    },
    {
      "cell_type": "code",
      "source": [
        "str = input(\"Enter the string: \")\n",
        "rev_str = str[::-1]\n",
        "print(\"Reverse string is: \", rev_str)"
      ],
      "metadata": {
        "colab": {
          "base_uri": "https://localhost:8080/"
        },
        "id": "Bp44LBR-K3rT",
        "outputId": "43119262-da13-482f-ed54-fbc032457e43"
      },
      "execution_count": 5,
      "outputs": [
        {
          "output_type": "stream",
          "name": "stdout",
          "text": [
            "Enter the string: nature\n",
            "Reverse string is:  erutan\n"
          ]
        }
      ]
    },
    {
      "cell_type": "markdown",
      "source": [
        "4. Write a program that takes a string as input and checks if it is a palindrome\n",
        "(reads the same forwards and backwards)."
      ],
      "metadata": {
        "id": "7yIDHI_bNE_w"
      }
    },
    {
      "cell_type": "code",
      "source": [
        "str = input(\"enter the string: \")\n",
        "str1 = str.replace(\" \",\"\").lower()\n",
        "rev_str = str1[::-1]\n",
        "\n",
        "if str1 == rev_str:\n",
        "  print(\"Given string is palindrome\")\n",
        "else:\n",
        "  print(\"Given string is not palindrome\")\n"
      ],
      "metadata": {
        "colab": {
          "base_uri": "https://localhost:8080/"
        },
        "id": "Xuge__2ZNEkV",
        "outputId": "8a92eca2-a011-4b0c-ca80-f4d326a56fd8"
      },
      "execution_count": 7,
      "outputs": [
        {
          "output_type": "stream",
          "name": "stdout",
          "text": [
            "enter the string: bob\n",
            "Given string is palindrome\n"
          ]
        }
      ]
    },
    {
      "cell_type": "markdown",
      "source": [
        "5. Create a program that takes a string as input and removes all the spaces from it. Print the modified string without spaces."
      ],
      "metadata": {
        "id": "1enciD49OE_n"
      }
    },
    {
      "cell_type": "code",
      "source": [
        "str = input(\"Enter the string: \")\n",
        "new_str = str.replace(\" \",\"\")\n",
        "print(\"updated string is: \", new_str)"
      ],
      "metadata": {
        "colab": {
          "base_uri": "https://localhost:8080/"
        },
        "id": "PElRm3c3LMGU",
        "outputId": "584c0199-c14d-43b3-b428-cd0c28a24bcf"
      },
      "execution_count": 8,
      "outputs": [
        {
          "output_type": "stream",
          "name": "stdout",
          "text": [
            "Enter the string: a b c d\n",
            "updated string is:  abcd\n"
          ]
        }
      ]
    },
    {
      "cell_type": "code",
      "source": [],
      "metadata": {
        "id": "ZKdtUTSBOWCV"
      },
      "execution_count": null,
      "outputs": []
    }
  ]
}